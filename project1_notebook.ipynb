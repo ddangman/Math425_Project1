{
 "cells": [
  {
   "cell_type": "markdown",
   "id": "d15d8b26",
   "metadata": {},
   "source": [
    "# Math 425 Fall 2025 Project 1  \n",
    "**Due:** 5PM on Fri October 10  \n",
    "\n",
    "## Project Directions\n",
    "- Include a report on every group member’s contribution.  \n",
    "- Submit the group’s well-commented code used for the project with instructions on how to compile and run.  \n",
    "- Make a 15 to 20 minute video presentation of your results.  \n",
    "\n",
    "The project consists of 3 problems.\n",
    "\n",
    "You are given part of the **Wisconsin Diagnostic Breast Cancer (WDBC) dataset**. For each patient, you are given a vector $\\mathbf{a}$ giving features computed from digitized images of a fine needle aspirate (FNA) of a breast mass. The features describe characteristics of the cell nuclei present in the image. The goal is to decide whether the cells are malignant or benign.  \n",
    "\n",
    "### Feature Computation\n",
    "Ten real-valued quantities are computed for each cell nucleus:\n",
    "- **radius** (mean of distances from center to points on the perimeter)  \n",
    "- **texture** (standard deviation of gray-scale values)  \n",
    "- **perimeter**  \n",
    "- **area**  \n",
    "- **smoothness** (local variation in radius lengths)  \n",
    "- **compactness** $\\;=\\; \\dfrac{\\text{perimeter}^2}{\\text{area}} - 1.0$  \n",
    "- **concavity** (severity of concave portions of the contour)  \n",
    "- **concave points** (number of concave portions of the contour)  \n",
    "- **symmetry**  \n",
    "- **fractal dimension** (“coastline approximation” - 1)  \n",
    "\n",
    "The **mean**, **standard error (stderr)**, and a measure of the **largest (worst)** values were computed for each feature.  \n",
    "Thus, each specimen is represented by a vector $\\mathbf{a}$ with **30 entries**.  \n",
    "\n",
    "The domain $D$ consists of thirty strings identifying these features, e.g.  \n",
    "- `radius (mean)`  \n",
    "- `radius (stderr)`  \n",
    "- `radius (worst)`  \n",
    "- `area (mean)`  \n",
    "\n",
    "### Provided Files\n",
    "- `train.txt`: data for 300 patients  \n",
    "- `train_values.txt`: indicator for malignant specimen (+1) or benign specimen (−1)  \n",
    "- `validate.txt`: data for 260 patients  \n",
    "- `validate_values.txt`: indicator for malignant specimen (+1) or benign specimen (−1) "
   ]
  },
  {
   "cell_type": "markdown",
   "id": "68b32bba",
   "metadata": {},
   "source": [
    "## Problem 1\n",
    "**(a)** Apply $k$-means clustering with $k=2$ to the training data.  \n",
    "Then use the validation data to assess clustering accuracy. You will need a scheme to determine whether a patient in the validation set has a malignant or benign tumor based on clustering.  "
   ]
  },
  {
   "cell_type": "code",
   "execution_count": 1,
   "id": "19e63bc1",
   "metadata": {},
   "outputs": [
    {
     "name": "stdout",
     "output_type": "stream",
     "text": [
      "Validation Accuracy: 0.926923076923077\n"
     ]
    }
   ],
   "source": [
    "import pandas as pd\n",
    "from sklearn.cluster import KMeans\n",
    "from sklearn.metrics import accuracy_score\n",
    "import numpy as np\n",
    "import warnings\n",
    "warnings.filterwarnings(\"ignore\", message=\"KMeans is known to have a memory leak\")\n",
    "\n",
    "\n",
    "url = \"https://raw.githubusercontent.com/ddangman/Math425_Project1/refs/heads/main/Files/Wisconsin_Breast_Cancer_Data/train.txt\"\n",
    "matrixA = pd.read_csv(url, sep=\",\", header=None)\n",
    "\n",
    "url = \"https://raw.githubusercontent.com/ddangman/Math425_Project1/refs/heads/main/Files/Wisconsin_Breast_Cancer_Data/validate.txt\"\n",
    "validateA = pd.read_csv(url, sep=\",\", header=None)\n",
    "\n",
    "url = \"https://raw.githubusercontent.com/ddangman/Math425_Project1/refs/heads/main/Files/Wisconsin_Breast_Cancer_Data/train_values.txt\"\n",
    "vector_b = pd.read_csv(url, sep=\",\", header=None)\n",
    "\n",
    "url = \"https://raw.githubusercontent.com/ddangman/Math425_Project1/refs/heads/main/Files/Wisconsin_Breast_Cancer_Data/validate_values.txt\"\n",
    "validate_b = pd.read_csv(url, sep=\",\", header=None)\n",
    "\n",
    "# Train KMeans on training data\n",
    "kmeans = KMeans(n_clusters=2, random_state=42, n_init=10)\n",
    "kmeans.fit(matrixA)\n",
    "\n",
    "# Predict cluster assignments for validation set\n",
    "val_clusters = kmeans.predict(validateA)\n",
    "\n",
    "# Map clusters to labels\n",
    "# KMeans cluster labels (0 or 1) don’t automatically correspond to malignant (+1) or benign (-1).\n",
    "# We need to assign clusters based on which cluster has more of each label in training data.\n",
    "train_clusters = kmeans.predict(matrixA)\n",
    "cluster_to_label = {}\n",
    "\n",
    "for cluster in np.unique(train_clusters):\n",
    "    # Find majority label in this cluster\n",
    "    labels_in_cluster = vector_b.iloc[train_clusters == cluster, 0]\n",
    "    majority_label = labels_in_cluster.value_counts().idxmax()\n",
    "    cluster_to_label[cluster] = majority_label\n",
    "\n",
    "# Convert validation clusters to predicted labels\n",
    "val_pred_labels = [cluster_to_label[c] for c in val_clusters]\n",
    "\n",
    "# Calculate accuracy\n",
    "acc = accuracy_score(validate_b, val_pred_labels)\n",
    "\n",
    "print(\"Validation Accuracy:\", acc)"
   ]
  },
  {
   "cell_type": "markdown",
   "id": "0893e6e1",
   "metadata": {},
   "source": [
    "**(b)** Embed the data in dimensions $d \\in \\{5, 10, 20\\}$ using **Gaussian matrix embedding**, then rerun $k$-means.  \n",
    "- What is the clustering accuracy for each $d$?  \n",
    "- What is the computational time averaged over 500 independent runs? "
   ]
  },
  {
   "cell_type": "code",
   "execution_count": 2,
   "id": "8aafed16",
   "metadata": {},
   "outputs": [
    {
     "name": "stdout",
     "output_type": "stream",
     "text": [
      "Dimension 5: Accuracy = 0.9270, Avg Time = 0.386350 seconds\n",
      "Dimension 10: Accuracy = 0.9277, Avg Time = 0.391366 seconds\n",
      "Dimension 20: Accuracy = 0.9279, Avg Time = 0.392607 seconds\n",
      "\n",
      "Total runtime for all experiments: 585.16 seconds\n"
     ]
    }
   ],
   "source": [
    "import time\n",
    "from sklearn.random_projection import GaussianRandomProjection\n",
    "\n",
    "# Dimensions to embed\n",
    "dims = [5, 10, 20]\n",
    "results = {}\n",
    "\n",
    "# Track total runtime\n",
    "overall_start = time.time()\n",
    "\n",
    "for d in dims:\n",
    "    accuracies = []\n",
    "    times = []\n",
    "    \n",
    "    for _ in range(500):  # repeat 500 runs\n",
    "        start = time.time()\n",
    "        \n",
    "        # Gaussian embedding\n",
    "        projector = GaussianRandomProjection(n_components=d)\n",
    "        A_embedded = projector.fit_transform(matrixA)\n",
    "        val_embedded = projector.transform(validateA)\n",
    "\n",
    "        # Train KMeans\n",
    "        kmeans = KMeans(n_clusters=2, random_state=None, n_init=10)\n",
    "        kmeans.fit(A_embedded)\n",
    "\n",
    "        # Map clusters to labels (majority vote on training data)\n",
    "        train_clusters = kmeans.predict(A_embedded)\n",
    "        cluster_to_label = {}\n",
    "        for cluster in np.unique(train_clusters):\n",
    "            labels_in_cluster = vector_b.iloc[train_clusters == cluster, 0]\n",
    "            majority_label = labels_in_cluster.value_counts().idxmax()\n",
    "            cluster_to_label[cluster] = majority_label\n",
    "\n",
    "        # Predict validation labels\n",
    "        val_clusters = kmeans.predict(val_embedded)\n",
    "        val_pred_labels = [cluster_to_label[c] for c in val_clusters]\n",
    "\n",
    "        # Accuracy\n",
    "        acc = accuracy_score(validate_b, val_pred_labels)\n",
    "        accuracies.append(acc)\n",
    "\n",
    "        # Runtime\n",
    "        times.append(time.time() - start)\n",
    "    \n",
    "    # Save averages\n",
    "    results[d] = {\n",
    "        \"avg_accuracy\": np.mean(accuracies),\n",
    "        \"avg_time\": np.mean(times)\n",
    "    }\n",
    "\n",
    "# Compute total runtime\n",
    "total_runtime = time.time() - overall_start\n",
    "\n",
    "# Display results\n",
    "for d in results:\n",
    "    print(f\"Dimension {d}: Accuracy = {results[d]['avg_accuracy']:.4f}, \"\n",
    "          f\"Avg Time = {results[d]['avg_time']:.6f} seconds\")\n",
    "\n",
    "print(f\"\\nTotal runtime for all experiments: {total_runtime:.2f} seconds\")"
   ]
  },
  {
   "cell_type": "code",
   "execution_count": 3,
   "id": "cc9dd69d",
   "metadata": {},
   "outputs": [
    {
     "data": {
      "image/png": "[encoded data removed]",
      "text/plain": [
       "<Figure size 1000x400 with 1 Axes>"
      ]
     },
     "metadata": {},
     "output_type": "display_data"
    },
    {
     "data": {
      "image/png": "[encoded data removed]",
      "text/plain": [
       "<Figure size 1000x400 with 1 Axes>"
      ]
     },
     "metadata": {},
     "output_type": "display_data"
    }
   ],
   "source": [
    "import matplotlib.pyplot as plt\n",
    "\n",
    "dims_list = list(results.keys())\n",
    "acc_list = [results[d][\"avg_accuracy\"] for d in dims_list]\n",
    "time_list = [results[d][\"avg_time\"] for d in dims_list]\n",
    "\n",
    "# Bar chart: Accuracy\n",
    "plt.figure(figsize=(10,4))\n",
    "plt.bar(dims_list, acc_list, color=\"skyblue\", width=3)\n",
    "plt.title(\"Clustering Accuracy vs Dimension (Gaussian Random Projection)\")\n",
    "plt.xlabel(\"Dimension (d)\")\n",
    "plt.ylabel(\"Accuracy\")\n",
    "plt.xticks(dims_list)\n",
    "plt.ylim(.8,1)  # accuracy range\n",
    "plt.grid(axis=\"y\", linestyle=\"--\", alpha=0.7)\n",
    "plt.show()\n",
    "\n",
    "# Bar chart: Runtime\n",
    "plt.figure(figsize=(10,4))\n",
    "plt.bar(dims_list, time_list, color=\"salmon\", width=3)\n",
    "plt.title(\"Computation Time vs Dimension (Gaussian Random Projection)\")\n",
    "plt.xlabel(\"Dimension (d)\")\n",
    "plt.ylabel(\"Time (seconds)\")\n",
    "plt.xticks(dims_list)\n",
    "plt.ylim(0, max(time_list) * 1.1)  # add 10% margin\n",
    "plt.grid(axis=\"y\", linestyle=\"--\", alpha=0.7)\n",
    "plt.show()\n"
   ]
  },
  {
   "cell_type": "markdown",
   "id": "ff79b37e",
   "metadata": {},
   "source": [
    "**(c)** Repeat part (b) but use **sparse random projection** instead of Gaussian embedding.  "
   ]
  },
  {
   "cell_type": "code",
   "execution_count": 4,
   "id": "4920c5eb",
   "metadata": {},
   "outputs": [
    {
     "name": "stdout",
     "output_type": "stream",
     "text": [
      "[Sparse RP] d=5: Accuracy=0.9246, Avg Time=0.424253 sec\n",
      "[Sparse RP] d=10: Accuracy=0.9266, Avg Time=0.424654 sec\n",
      "[Sparse RP] d=20: Accuracy=0.9274, Avg Time=0.425052 sec\n",
      "\n",
      "Total runtime for all experiments: 636.98 seconds\n"
     ]
    }
   ],
   "source": [
    "from sklearn.random_projection import SparseRandomProjection\n",
    "\n",
    "dims = [5, 10, 20]\n",
    "results_sparse = {}\n",
    "\n",
    "# Track total runtime\n",
    "overall_start = time.time()\n",
    "\n",
    "for d in dims:\n",
    "    accuracies = []\n",
    "    times = []\n",
    "\n",
    "    for _ in range(500):  # repeat 500 runs\n",
    "        start = time.time()\n",
    "\n",
    "        # Sparse random projection\n",
    "        projector = SparseRandomProjection(n_components=d)\n",
    "        A_embedded = projector.fit_transform(matrixA)\n",
    "        val_embedded = projector.transform(validateA)\n",
    "\n",
    "        # KMeans clustering\n",
    "        kmeans = KMeans(n_clusters=2, random_state=None, n_init=10)\n",
    "        kmeans.fit(A_embedded)\n",
    "\n",
    "        # Map clusters -> labels\n",
    "        train_clusters = kmeans.predict(A_embedded)\n",
    "        cluster_to_label = {}\n",
    "        for cluster in np.unique(train_clusters):\n",
    "            labels_in_cluster = vector_b.iloc[train_clusters == cluster, 0]\n",
    "            majority_label = labels_in_cluster.value_counts().idxmax()\n",
    "            cluster_to_label[cluster] = majority_label\n",
    "\n",
    "        # Predict validation labels\n",
    "        val_clusters = kmeans.predict(val_embedded)\n",
    "        val_pred_labels = [cluster_to_label[c] for c in val_clusters]\n",
    "\n",
    "        # Accuracy & runtime\n",
    "        acc = accuracy_score(validate_b, val_pred_labels)\n",
    "        accuracies.append(acc)\n",
    "        times.append(time.time() - start)\n",
    "\n",
    "    results_sparse[d] = {\n",
    "        \"avg_accuracy\": float(np.mean(accuracies)),\n",
    "        \"avg_time\": float(np.mean(times))\n",
    "    }\n",
    "\n",
    "# Compute total runtime\n",
    "total_runtime = time.time() - overall_start\n",
    "\n",
    "# Print summary\n",
    "for d in results_sparse:\n",
    "    print(f\"[Sparse RP] d={d}: Accuracy={results_sparse[d]['avg_accuracy']:.4f}, \"\n",
    "          f\"Avg Time={results_sparse[d]['avg_time']:.6f} sec\")\n",
    "\n",
    "print(f\"\\nTotal runtime for all experiments: {total_runtime:.2f} seconds\")"
   ]
  },
  {
   "cell_type": "code",
   "execution_count": 5,
   "id": "42be5ec8",
   "metadata": {},
   "outputs": [
    {
     "data": {
      "image/png": "[encoded data removed]",
      "text/plain": [
       "<Figure size 1000x400 with 1 Axes>"
      ]
     },
     "metadata": {},
     "output_type": "display_data"
    },
    {
     "data": {
      "image/png": "[encoded data removed]",
      "text/plain": [
       "<Figure size 1000x400 with 1 Axes>"
      ]
     },
     "metadata": {},
     "output_type": "display_data"
    }
   ],
   "source": [
    "# Bar chart: Accuracy\n",
    "dims_list = list(results_sparse.keys())\n",
    "acc_list = [results_sparse[d][\"avg_accuracy\"] for d in dims_list]\n",
    "time_list = [results_sparse[d][\"avg_time\"] for d in dims_list]\n",
    "\n",
    "plt.figure(figsize=(10,4))\n",
    "plt.bar(dims_list, acc_list, color=\"skyblue\", width=3)\n",
    "plt.title(\"Clustering Accuracy vs Dimension (Sparse Random Projection)\")\n",
    "plt.xlabel(\"Dimension (d)\")\n",
    "plt.ylabel(\"Accuracy\")\n",
    "plt.xticks(dims_list)\n",
    "plt.ylim(0.8,1)\n",
    "plt.grid(axis=\"y\", linestyle=\"--\", alpha=0.7)\n",
    "plt.show()\n",
    "\n",
    "# Bar chart: Runtime\n",
    "plt.figure(figsize=(10,4))\n",
    "plt.bar(dims_list, time_list, color=\"salmon\", width=3)\n",
    "plt.title(\"Computation Time vs Dimension (Sparse Random Projection)\")\n",
    "plt.xlabel(\"Dimension (d)\")\n",
    "plt.ylabel(\"Time (seconds)\")\n",
    "plt.xticks(dims_list)\n",
    "plt.ylim(0.4, max(time_list) * 1.1)  # add 10% margin\n",
    "plt.grid(axis=\"y\", linestyle=\"--\", alpha=0.7)\n",
    "plt.show()"
   ]
  },
  {
   "cell_type": "code",
   "execution_count": 6,
   "id": "3f97ede9",
   "metadata": {},
   "outputs": [
    {
     "data": {
      "image/png": "[encoded data removed]",
      "text/plain": [
       "<Figure size 1000x400 with 1 Axes>"
      ]
     },
     "metadata": {},
     "output_type": "display_data"
    },
    {
     "data": {
      "image/png": "[encoded data removed]",
      "text/plain": [
       "<Figure size 1000x400 with 1 Axes>"
      ]
     },
     "metadata": {},
     "output_type": "display_data"
    }
   ],
   "source": [
    "dims_list = list(results.keys())\n",
    "\n",
    "# Accuracy lists\n",
    "acc_gaussian = [results[d][\"avg_accuracy\"] for d in dims_list]\n",
    "acc_sparse   = [results_sparse[d][\"avg_accuracy\"] for d in dims_list]\n",
    "\n",
    "# Runtime lists\n",
    "time_gaussian = [results[d][\"avg_time\"] for d in dims_list]\n",
    "time_sparse   = [results_sparse[d][\"avg_time\"] for d in dims_list]\n",
    "\n",
    "x = np.arange(len(dims_list))  # x positions for groups\n",
    "width = 0.35  # width of bars\n",
    "\n",
    "# Accuracy comparison\n",
    "plt.figure(figsize=(10,4))\n",
    "plt.bar(x - width/2, acc_gaussian, width, label=\"Gaussian\", color=\"skyblue\")\n",
    "plt.bar(x + width/2, acc_sparse,   width, label=\"Sparse\",   color=\"orange\")\n",
    "plt.xticks(x, dims_list)\n",
    "plt.title(\"Clustering Accuracy vs Dimension\")\n",
    "plt.xlabel(\"Dimension (d)\")\n",
    "plt.ylabel(\"Accuracy\")\n",
    "plt.ylim(0.8, 1.0)  # adjust as needed\n",
    "plt.grid(axis=\"y\", linestyle=\"--\", alpha=0.7)\n",
    "plt.legend()\n",
    "plt.show()\n",
    "\n",
    "# Runtime comparison\n",
    "plt.figure(figsize=(10,4))\n",
    "plt.bar(x - width/2, time_gaussian, width, label=\"Gaussian\", color=\"salmon\")\n",
    "plt.bar(x + width/2, time_sparse,   width, label=\"Sparse\",   color=\"green\")\n",
    "plt.xticks(x, dims_list)\n",
    "plt.title(\"Computation Time vs Dimension\")\n",
    "plt.xlabel(\"Dimension (d)\")\n",
    "plt.ylabel(\"Time (seconds)\")\n",
    "plt.ylim(0, max(max(time_gaussian), max(time_sparse)) * 1.2)\n",
    "plt.grid(axis=\"y\", linestyle=\"--\", alpha=0.7)\n",
    "plt.legend()\n",
    "plt.show()\n"
   ]
  },
  {
   "cell_type": "markdown",
   "id": "96f622c8",
   "metadata": {},
   "source": [
    "## Problem 2\n",
    "- Read the data in `train.txt` into a matrix $A$ (rows = patients, columns = 30 features).  "
   ]
  },
  {
   "cell_type": "code",
   "execution_count": 7,
   "id": "fc66d381",
   "metadata": {},
   "outputs": [
    {
     "name": "stdout",
     "output_type": "stream",
     "text": [
      "(300, 30)\n"
     ]
    },
    {
     "data": {
      "application/vnd.microsoft.datawrangler.viewer.v0+json": {
       "columns": [
        {
         "name": "index",
         "rawType": "int64",
         "type": "integer"
        },
        {
         "name": "0",
         "rawType": "float64",
         "type": "float"
        },
        {
         "name": "1",
         "rawType": "float64",
         "type": "float"
        },
        {
         "name": "2",
         "rawType": "float64",
         "type": "float"
        },
        {
         "name": "3",
         "rawType": "float64",
         "type": "float"
        },
        {
         "name": "4",
         "rawType": "float64",
         "type": "float"
        },
        {
         "name": "5",
         "rawType": "float64",
         "type": "float"
        },
        {
         "name": "6",
         "rawType": "float64",
         "type": "float"
        },
        {
         "name": "7",
         "rawType": "float64",
         "type": "float"
        },
        {
         "name": "8",
         "rawType": "float64",
         "type": "float"
        },
        {
         "name": "9",
         "rawType": "float64",
         "type": "float"
        },
        {
         "name": "10",
         "rawType": "float64",
         "type": "float"
        },
        {
         "name": "11",
         "rawType": "float64",
         "type": "float"
        },
        {
         "name": "12",
         "rawType": "float64",
         "type": "float"
        },
        {
         "name": "13",
         "rawType": "float64",
         "type": "float"
        },
        {
         "name": "14",
         "rawType": "float64",
         "type": "float"
        },
        {
         "name": "15",
         "rawType": "float64",
         "type": "float"
        },
        {
         "name": "16",
         "rawType": "float64",
         "type": "float"
        },
        {
         "name": "17",
         "rawType": "float64",
         "type": "float"
        },
        {
         "name": "18",
         "rawType": "float64",
         "type": "float"
        },
        {
         "name": "19",
         "rawType": "float64",
         "type": "float"
        },
        {
         "name": "20",
         "rawType": "float64",
         "type": "float"
        },
        {
         "name": "21",
         "rawType": "float64",
         "type": "float"
        },
        {
         "name": "22",
         "rawType": "float64",
         "type": "float"
        },
        {
         "name": "23",
         "rawType": "float64",
         "type": "float"
        },
        {
         "name": "24",
         "rawType": "float64",
         "type": "float"
        },
        {
         "name": "25",
         "rawType": "float64",
         "type": "float"
        },
        {
         "name": "26",
         "rawType": "float64",
         "type": "float"
        },
        {
         "name": "27",
         "rawType": "float64",
         "type": "float"
        },
        {
         "name": "28",
         "rawType": "float64",
         "type": "float"
        },
        {
         "name": "29",
         "rawType": "float64",
         "type": "float"
        }
       ],
       "ref": "56f421af-37ac-4bb7-baa2-2f57bede8776",
       "rows": [
        [
         "0",
         "17.99",
         "10.38",
         "122.8",
         "1001.0",
         "0.1184",
         "0.2776",
         "0.3001",
         "0.1471",
         "0.2419",
         "0.07871",
         "1.095",
         "0.9053",
         "8.589",
         "153.4",
         "0.006399",
         "0.04904",
         "0.05373",
         "0.01587",
         "0.03003",
         "0.006193",
         "25.38",
         "17.33",
         "184.6",
         "2019.0",
         "0.1622",
         "0.6656",
         "0.7119",
         "0.2654",
         "0.4601",
         "0.1189"
        ],
        [
         "1",
         "20.57",
         "17.77",
         "132.9",
         "1326.0",
         "0.08474",
         "0.07864",
         "0.0869",
         "0.07017",
         "0.1812",
         "0.05667",
         "0.5435",
         "0.7339",
         "3.398",
         "74.08",
         "0.005225",
         "0.01308",
         "0.0186",
         "0.0134",
         "0.01389",
         "0.003532",
         "24.99",
         "23.41",
         "158.8",
         "1956.0",
         "0.1238",
         "0.1866",
         "0.2416",
         "0.186",
         "0.275",
         "0.08902"
        ],
        [
         "2",
         "19.69",
         "21.25",
         "130.0",
         "1203.0",
         "0.1096",
         "0.1599",
         "0.1974",
         "0.1279",
         "0.2069",
         "0.05999",
         "0.7456",
         "0.7869",
         "4.585",
         "94.03",
         "0.00615",
         "0.04006",
         "0.03832",
         "0.02058",
         "0.0225",
         "0.004571",
         "23.57",
         "25.53",
         "152.5",
         "1709.0",
         "0.1444",
         "0.4245",
         "0.4504",
         "0.243",
         "0.3613",
         "0.08758"
        ],
        [
         "3",
         "11.42",
         "20.38",
         "77.58",
         "386.1",
         "0.1425",
         "0.2839",
         "0.2414",
         "0.1052",
         "0.2597",
         "0.09744",
         "0.4956",
         "1.156",
         "3.445",
         "27.23",
         "0.00911",
         "0.07458",
         "0.05661",
         "0.01867",
         "0.05963",
         "0.009208",
         "14.91",
         "26.5",
         "98.87",
         "567.7",
         "0.2098",
         "0.8663",
         "0.6869",
         "0.2575",
         "0.6638",
         "0.173"
        ],
        [
         "4",
         "20.29",
         "14.34",
         "135.1",
         "1297.0",
         "0.1003",
         "0.1328",
         "0.198",
         "0.1043",
         "0.1809",
         "0.05883",
         "0.7572",
         "0.7813",
         "5.438",
         "94.44",
         "0.01149",
         "0.02461",
         "0.05688",
         "0.01885",
         "0.01756",
         "0.005115",
         "22.54",
         "16.67",
         "152.2",
         "1575.0",
         "0.1374",
         "0.205",
         "0.4",
         "0.1625",
         "0.2364",
         "0.07678"
        ]
       ],
       "shape": {
        "columns": 30,
        "rows": 5
       }
      },
      "text/html": [
       "<div>\n",
       "<style scoped>\n",
       "    .dataframe tbody tr th:only-of-type {\n",
       "        vertical-align: middle;\n",
       "    }\n",
       "\n",
       "    .dataframe tbody tr th {\n",
       "        vertical-align: top;\n",
       "    }\n",
       "\n",
       "    .dataframe thead th {\n",
       "        text-align: right;\n",
       "    }\n",
       "</style>\n",
       "<table border=\"1\" class=\"dataframe\">\n",
       "  <thead>\n",
       "    <tr style=\"text-align: right;\">\n",
       "      <th></th>\n",
       "      <th>0</th>\n",
       "      <th>1</th>\n",
       "      <th>2</th>\n",
       "      <th>3</th>\n",
       "      <th>4</th>\n",
       "      <th>5</th>\n",
       "      <th>6</th>\n",
       "      <th>7</th>\n",
       "      <th>8</th>\n",
       "      <th>9</th>\n",
       "      <th>...</th>\n",
       "      <th>20</th>\n",
       "      <th>21</th>\n",
       "      <th>22</th>\n",
       "      <th>23</th>\n",
       "      <th>24</th>\n",
       "      <th>25</th>\n",
       "      <th>26</th>\n",
       "      <th>27</th>\n",
       "      <th>28</th>\n",
       "      <th>29</th>\n",
       "    </tr>\n",
       "  </thead>\n",
       "  <tbody>\n",
       "    <tr>\n",
       "      <th>0</th>\n",
       "      <td>17.99</td>\n",
       "      <td>10.38</td>\n",
       "      <td>122.80</td>\n",
       "      <td>1001.0</td>\n",
       "      <td>0.11840</td>\n",
       "      <td>0.27760</td>\n",
       "      <td>0.3001</td>\n",
       "      <td>0.14710</td>\n",
       "      <td>0.2419</td>\n",
       "      <td>0.07871</td>\n",
       "      <td>...</td>\n",
       "      <td>25.38</td>\n",
       "      <td>17.33</td>\n",
       "      <td>184.60</td>\n",
       "      <td>2019.0</td>\n",
       "      <td>0.1622</td>\n",
       "      <td>0.6656</td>\n",
       "      <td>0.7119</td>\n",
       "      <td>0.2654</td>\n",
       "      <td>0.4601</td>\n",
       "      <td>0.11890</td>\n",
       "    </tr>\n",
       "    <tr>\n",
       "      <th>1</th>\n",
       "      <td>20.57</td>\n",
       "      <td>17.77</td>\n",
       "      <td>132.90</td>\n",
       "      <td>1326.0</td>\n",
       "      <td>0.08474</td>\n",
       "      <td>0.07864</td>\n",
       "      <td>0.0869</td>\n",
       "      <td>0.07017</td>\n",
       "      <td>0.1812</td>\n",
       "      <td>0.05667</td>\n",
       "      <td>...</td>\n",
       "      <td>24.99</td>\n",
       "      <td>23.41</td>\n",
       "      <td>158.80</td>\n",
       "      <td>1956.0</td>\n",
       "      <td>0.1238</td>\n",
       "      <td>0.1866</td>\n",
       "      <td>0.2416</td>\n",
       "      <td>0.1860</td>\n",
       "      <td>0.2750</td>\n",
       "      <td>0.08902</td>\n",
       "    </tr>\n",
       "    <tr>\n",
       "      <th>2</th>\n",
       "      <td>19.69</td>\n",
       "      <td>21.25</td>\n",
       "      <td>130.00</td>\n",
       "      <td>1203.0</td>\n",
       "      <td>0.10960</td>\n",
       "      <td>0.15990</td>\n",
       "      <td>0.1974</td>\n",
       "      <td>0.12790</td>\n",
       "      <td>0.2069</td>\n",
       "      <td>0.05999</td>\n",
       "      <td>...</td>\n",
       "      <td>23.57</td>\n",
       "      <td>25.53</td>\n",
       "      <td>152.50</td>\n",
       "      <td>1709.0</td>\n",
       "      <td>0.1444</td>\n",
       "      <td>0.4245</td>\n",
       "      <td>0.4504</td>\n",
       "      <td>0.2430</td>\n",
       "      <td>0.3613</td>\n",
       "      <td>0.08758</td>\n",
       "    </tr>\n",
       "    <tr>\n",
       "      <th>3</th>\n",
       "      <td>11.42</td>\n",
       "      <td>20.38</td>\n",
       "      <td>77.58</td>\n",
       "      <td>386.1</td>\n",
       "      <td>0.14250</td>\n",
       "      <td>0.28390</td>\n",
       "      <td>0.2414</td>\n",
       "      <td>0.10520</td>\n",
       "      <td>0.2597</td>\n",
       "      <td>0.09744</td>\n",
       "      <td>...</td>\n",
       "      <td>14.91</td>\n",
       "      <td>26.50</td>\n",
       "      <td>98.87</td>\n",
       "      <td>567.7</td>\n",
       "      <td>0.2098</td>\n",
       "      <td>0.8663</td>\n",
       "      <td>0.6869</td>\n",
       "      <td>0.2575</td>\n",
       "      <td>0.6638</td>\n",
       "      <td>0.17300</td>\n",
       "    </tr>\n",
       "    <tr>\n",
       "      <th>4</th>\n",
       "      <td>20.29</td>\n",
       "      <td>14.34</td>\n",
       "      <td>135.10</td>\n",
       "      <td>1297.0</td>\n",
       "      <td>0.10030</td>\n",
       "      <td>0.13280</td>\n",
       "      <td>0.1980</td>\n",
       "      <td>0.10430</td>\n",
       "      <td>0.1809</td>\n",
       "      <td>0.05883</td>\n",
       "      <td>...</td>\n",
       "      <td>22.54</td>\n",
       "      <td>16.67</td>\n",
       "      <td>152.20</td>\n",
       "      <td>1575.0</td>\n",
       "      <td>0.1374</td>\n",
       "      <td>0.2050</td>\n",
       "      <td>0.4000</td>\n",
       "      <td>0.1625</td>\n",
       "      <td>0.2364</td>\n",
       "      <td>0.07678</td>\n",
       "    </tr>\n",
       "  </tbody>\n",
       "</table>\n",
       "<p>5 rows × 30 columns</p>\n",
       "</div>"
      ],
      "text/plain": [
       "      0      1       2       3        4        5       6        7       8   \\\n",
       "0  17.99  10.38  122.80  1001.0  0.11840  0.27760  0.3001  0.14710  0.2419   \n",
       "1  20.57  17.77  132.90  1326.0  0.08474  0.07864  0.0869  0.07017  0.1812   \n",
       "2  19.69  21.25  130.00  1203.0  0.10960  0.15990  0.1974  0.12790  0.2069   \n",
       "3  11.42  20.38   77.58   386.1  0.14250  0.28390  0.2414  0.10520  0.2597   \n",
       "4  20.29  14.34  135.10  1297.0  0.10030  0.13280  0.1980  0.10430  0.1809   \n",
       "\n",
       "        9   ...     20     21      22      23      24      25      26      27  \\\n",
       "0  0.07871  ...  25.38  17.33  184.60  2019.0  0.1622  0.6656  0.7119  0.2654   \n",
       "1  0.05667  ...  24.99  23.41  158.80  1956.0  0.1238  0.1866  0.2416  0.1860   \n",
       "2  0.05999  ...  23.57  25.53  152.50  1709.0  0.1444  0.4245  0.4504  0.2430   \n",
       "3  0.09744  ...  14.91  26.50   98.87   567.7  0.2098  0.8663  0.6869  0.2575   \n",
       "4  0.05883  ...  22.54  16.67  152.20  1575.0  0.1374  0.2050  0.4000  0.1625   \n",
       "\n",
       "       28       29  \n",
       "0  0.4601  0.11890  \n",
       "1  0.2750  0.08902  \n",
       "2  0.3613  0.08758  \n",
       "3  0.6638  0.17300  \n",
       "4  0.2364  0.07678  \n",
       "\n",
       "[5 rows x 30 columns]"
      ]
     },
     "execution_count": 7,
     "metadata": {},
     "output_type": "execute_result"
    }
   ],
   "source": [
    "url = \"https://raw.githubusercontent.com/ddangman/Math425_Project1/refs/heads/main/Files/Wisconsin_Breast_Cancer_Data/train.txt\"\n",
    "\n",
    "matrixA = pd.read_csv(url, sep=\",\", header=None)\n",
    "print(matrixA.shape)\n",
    "matrixA.head()"
   ]
  },
  {
   "cell_type": "markdown",
   "id": "9705a3e2",
   "metadata": {},
   "source": [
    "- Read the data in `train_values.txt` into a vector $b$ where  "
   ]
  },
  {
   "cell_type": "code",
   "execution_count": 8,
   "id": "6190cb7e",
   "metadata": {},
   "outputs": [
    {
     "name": "stdout",
     "output_type": "stream",
     "text": [
      "(300, 1)\n"
     ]
    },
    {
     "data": {
      "application/vnd.microsoft.datawrangler.viewer.v0+json": {
       "columns": [
        {
         "name": "index",
         "rawType": "int64",
         "type": "integer"
        },
        {
         "name": "0",
         "rawType": "int64",
         "type": "integer"
        }
       ],
       "ref": "116497b5-5a47-49bb-9c48-57ad766820eb",
       "rows": [
        [
         "0",
         "1"
        ],
        [
         "1",
         "1"
        ],
        [
         "2",
         "1"
        ],
        [
         "3",
         "1"
        ],
        [
         "4",
         "1"
        ]
       ],
       "shape": {
        "columns": 1,
        "rows": 5
       }
      },
      "text/html": [
       "<div>\n",
       "<style scoped>\n",
       "    .dataframe tbody tr th:only-of-type {\n",
       "        vertical-align: middle;\n",
       "    }\n",
       "\n",
       "    .dataframe tbody tr th {\n",
       "        vertical-align: top;\n",
       "    }\n",
       "\n",
       "    .dataframe thead th {\n",
       "        text-align: right;\n",
       "    }\n",
       "</style>\n",
       "<table border=\"1\" class=\"dataframe\">\n",
       "  <thead>\n",
       "    <tr style=\"text-align: right;\">\n",
       "      <th></th>\n",
       "      <th>0</th>\n",
       "    </tr>\n",
       "  </thead>\n",
       "  <tbody>\n",
       "    <tr>\n",
       "      <th>0</th>\n",
       "      <td>1</td>\n",
       "    </tr>\n",
       "    <tr>\n",
       "      <th>1</th>\n",
       "      <td>1</td>\n",
       "    </tr>\n",
       "    <tr>\n",
       "      <th>2</th>\n",
       "      <td>1</td>\n",
       "    </tr>\n",
       "    <tr>\n",
       "      <th>3</th>\n",
       "      <td>1</td>\n",
       "    </tr>\n",
       "    <tr>\n",
       "      <th>4</th>\n",
       "      <td>1</td>\n",
       "    </tr>\n",
       "  </tbody>\n",
       "</table>\n",
       "</div>"
      ],
      "text/plain": [
       "   0\n",
       "0  1\n",
       "1  1\n",
       "2  1\n",
       "3  1\n",
       "4  1"
      ]
     },
     "execution_count": 8,
     "metadata": {},
     "output_type": "execute_result"
    }
   ],
   "source": [
    "url = \"https://raw.githubusercontent.com/ddangman/Math425_Project1/refs/heads/main/Files/Wisconsin_Breast_Cancer_Data/train_values.txt\"\n",
    "\n",
    "vector_b = pd.read_csv(url, sep=\",\", header=None)\n",
    "print(vector_b.shape)\n",
    "vector_b.head()"
   ]
  },
  {
   "cell_type": "markdown",
   "id": "aa363312",
   "metadata": {},
   "source": [
    "  $$\n",
    "  b_i = \\begin{cases} \n",
    "  +1 & \\text{if malignant} \\\\ \n",
    "  -1 & \\text{if benign} \n",
    "  \\end{cases}\n",
    "  $$\n",
    "\n",
    "**(a)** Use the **QR algorithm** to find the least-squares linear model for the data. "
   ]
  },
  {
   "cell_type": "markdown",
   "id": "9374d100",
   "metadata": {},
   "source": [
    "**(b)** Apply the linear model to `validate.txt` and predict malignancy. Define a classifier:\n",
    "\n",
    "$$\n",
    "C(y) = \\begin{cases} \n",
    "+1 & \\text{if } y \\geq 0 \\\\ \n",
    "-1 & \\text{otherwise}\n",
    "\\end{cases}\n",
    "$$"
   ]
  },
  {
   "cell_type": "code",
   "execution_count": 9,
   "id": "3d7608ee",
   "metadata": {},
   "outputs": [
    {
     "name": "stdout",
     "output_type": "stream",
     "text": [
      "(260, 30)\n"
     ]
    },
    {
     "data": {
      "application/vnd.microsoft.datawrangler.viewer.v0+json": {
       "columns": [
        {
         "name": "index",
         "rawType": "int64",
         "type": "integer"
        },
        {
         "name": "0",
         "rawType": "float64",
         "type": "float"
        },
        {
         "name": "1",
         "rawType": "float64",
         "type": "float"
        },
        {
         "name": "2",
         "rawType": "float64",
         "type": "float"
        },
        {
         "name": "3",
         "rawType": "float64",
         "type": "float"
        },
        {
         "name": "4",
         "rawType": "float64",
         "type": "float"
        },
        {
         "name": "5",
         "rawType": "float64",
         "type": "float"
        },
        {
         "name": "6",
         "rawType": "float64",
         "type": "float"
        },
        {
         "name": "7",
         "rawType": "float64",
         "type": "float"
        },
        {
         "name": "8",
         "rawType": "float64",
         "type": "float"
        },
        {
         "name": "9",
         "rawType": "float64",
         "type": "float"
        },
        {
         "name": "10",
         "rawType": "float64",
         "type": "float"
        },
        {
         "name": "11",
         "rawType": "float64",
         "type": "float"
        },
        {
         "name": "12",
         "rawType": "float64",
         "type": "float"
        },
        {
         "name": "13",
         "rawType": "float64",
         "type": "float"
        },
        {
         "name": "14",
         "rawType": "float64",
         "type": "float"
        },
        {
         "name": "15",
         "rawType": "float64",
         "type": "float"
        },
        {
         "name": "16",
         "rawType": "float64",
         "type": "float"
        },
        {
         "name": "17",
         "rawType": "float64",
         "type": "float"
        },
        {
         "name": "18",
         "rawType": "float64",
         "type": "float"
        },
        {
         "name": "19",
         "rawType": "float64",
         "type": "float"
        },
        {
         "name": "20",
         "rawType": "float64",
         "type": "float"
        },
        {
         "name": "21",
         "rawType": "float64",
         "type": "float"
        },
        {
         "name": "22",
         "rawType": "float64",
         "type": "float"
        },
        {
         "name": "23",
         "rawType": "float64",
         "type": "float"
        },
        {
         "name": "24",
         "rawType": "float64",
         "type": "float"
        },
        {
         "name": "25",
         "rawType": "float64",
         "type": "float"
        },
        {
         "name": "26",
         "rawType": "float64",
         "type": "float"
        },
        {
         "name": "27",
         "rawType": "float64",
         "type": "float"
        },
        {
         "name": "28",
         "rawType": "float64",
         "type": "float"
        },
        {
         "name": "29",
         "rawType": "float64",
         "type": "float"
        }
       ],
       "ref": "37511c1b-ae5c-46fc-ad5a-ff7bf4d87b39",
       "rows": [
        [
         "0",
         "19.53",
         "18.9",
         "129.5",
         "1217.0",
         "0.115",
         "0.1642",
         "0.2197",
         "0.1062",
         "0.1792",
         "0.06552",
         "1.111",
         "1.161",
         "7.237",
         "133.0",
         "0.006056",
         "0.03203",
         "0.05638",
         "0.01733",
         "0.01884",
         "0.004787",
         "25.93",
         "26.24",
         "171.1",
         "2053.0",
         "0.1495",
         "0.4116",
         "0.6121",
         "0.198",
         "0.2968",
         "0.09929"
        ],
        [
         "1",
         "12.46",
         "19.89",
         "80.43",
         "471.3",
         "0.08451",
         "0.1014",
         "0.0683",
         "0.03099",
         "0.1781",
         "0.06249",
         "0.3642",
         "1.04",
         "2.579",
         "28.32",
         "0.00653",
         "0.03369",
         "0.04712",
         "0.01403",
         "0.0274",
         "0.004651",
         "13.46",
         "23.07",
         "88.13",
         "551.3",
         "0.105",
         "0.2158",
         "0.1904",
         "0.07625",
         "0.2685",
         "0.07764"
        ],
        [
         "2",
         "20.09",
         "23.86",
         "134.7",
         "1247.0",
         "0.108",
         "0.1838",
         "0.2283",
         "0.128",
         "0.2249",
         "0.07469",
         "1.072",
         "1.743",
         "7.804",
         "130.8",
         "0.007964",
         "0.04732",
         "0.07649",
         "0.01936",
         "0.02736",
         "0.005928",
         "23.68",
         "29.43",
         "158.8",
         "1696.0",
         "0.1347",
         "0.3391",
         "0.4932",
         "0.1923",
         "0.3294",
         "0.09469"
        ],
        [
         "3",
         "10.49",
         "18.61",
         "66.86",
         "334.3",
         "0.1068",
         "0.06678",
         "0.02297",
         "0.0178",
         "0.1482",
         "0.066",
         "0.1485",
         "1.563",
         "1.035",
         "10.08",
         "0.008875",
         "0.009362",
         "0.01808",
         "0.009199",
         "0.01791",
         "0.003317",
         "11.06",
         "24.54",
         "70.76",
         "375.4",
         "0.1413",
         "0.1044",
         "0.08423",
         "0.06528",
         "0.2213",
         "0.07842"
        ],
        [
         "4",
         "11.46",
         "18.16",
         "73.59",
         "403.1",
         "0.08853",
         "0.07694",
         "0.03344",
         "0.01502",
         "0.1411",
         "0.06243",
         "0.3278",
         "1.059",
         "2.475",
         "22.93",
         "0.006652",
         "0.02652",
         "0.02221",
         "0.007807",
         "0.01894",
         "0.003411",
         "12.68",
         "21.61",
         "82.69",
         "489.8",
         "0.1144",
         "0.1789",
         "0.1226",
         "0.05509",
         "0.2208",
         "0.07638"
        ]
       ],
       "shape": {
        "columns": 30,
        "rows": 5
       }
      },
      "text/html": [
       "<div>\n",
       "<style scoped>\n",
       "    .dataframe tbody tr th:only-of-type {\n",
       "        vertical-align: middle;\n",
       "    }\n",
       "\n",
       "    .dataframe tbody tr th {\n",
       "        vertical-align: top;\n",
       "    }\n",
       "\n",
       "    .dataframe thead th {\n",
       "        text-align: right;\n",
       "    }\n",
       "</style>\n",
       "<table border=\"1\" class=\"dataframe\">\n",
       "  <thead>\n",
       "    <tr style=\"text-align: right;\">\n",
       "      <th></th>\n",
       "      <th>0</th>\n",
       "      <th>1</th>\n",
       "      <th>2</th>\n",
       "      <th>3</th>\n",
       "      <th>4</th>\n",
       "      <th>5</th>\n",
       "      <th>6</th>\n",
       "      <th>7</th>\n",
       "      <th>8</th>\n",
       "      <th>9</th>\n",
       "      <th>...</th>\n",
       "      <th>20</th>\n",
       "      <th>21</th>\n",
       "      <th>22</th>\n",
       "      <th>23</th>\n",
       "      <th>24</th>\n",
       "      <th>25</th>\n",
       "      <th>26</th>\n",
       "      <th>27</th>\n",
       "      <th>28</th>\n",
       "      <th>29</th>\n",
       "    </tr>\n",
       "  </thead>\n",
       "  <tbody>\n",
       "    <tr>\n",
       "      <th>0</th>\n",
       "      <td>19.53</td>\n",
       "      <td>18.90</td>\n",
       "      <td>129.50</td>\n",
       "      <td>1217.0</td>\n",
       "      <td>0.11500</td>\n",
       "      <td>0.16420</td>\n",
       "      <td>0.21970</td>\n",
       "      <td>0.10620</td>\n",
       "      <td>0.1792</td>\n",
       "      <td>0.06552</td>\n",
       "      <td>...</td>\n",
       "      <td>25.93</td>\n",
       "      <td>26.24</td>\n",
       "      <td>171.10</td>\n",
       "      <td>2053.0</td>\n",
       "      <td>0.1495</td>\n",
       "      <td>0.4116</td>\n",
       "      <td>0.61210</td>\n",
       "      <td>0.19800</td>\n",
       "      <td>0.2968</td>\n",
       "      <td>0.09929</td>\n",
       "    </tr>\n",
       "    <tr>\n",
       "      <th>1</th>\n",
       "      <td>12.46</td>\n",
       "      <td>19.89</td>\n",
       "      <td>80.43</td>\n",
       "      <td>471.3</td>\n",
       "      <td>0.08451</td>\n",
       "      <td>0.10140</td>\n",
       "      <td>0.06830</td>\n",
       "      <td>0.03099</td>\n",
       "      <td>0.1781</td>\n",
       "      <td>0.06249</td>\n",
       "      <td>...</td>\n",
       "      <td>13.46</td>\n",
       "      <td>23.07</td>\n",
       "      <td>88.13</td>\n",
       "      <td>551.3</td>\n",
       "      <td>0.1050</td>\n",
       "      <td>0.2158</td>\n",
       "      <td>0.19040</td>\n",
       "      <td>0.07625</td>\n",
       "      <td>0.2685</td>\n",
       "      <td>0.07764</td>\n",
       "    </tr>\n",
       "    <tr>\n",
       "      <th>2</th>\n",
       "      <td>20.09</td>\n",
       "      <td>23.86</td>\n",
       "      <td>134.70</td>\n",
       "      <td>1247.0</td>\n",
       "      <td>0.10800</td>\n",
       "      <td>0.18380</td>\n",
       "      <td>0.22830</td>\n",
       "      <td>0.12800</td>\n",
       "      <td>0.2249</td>\n",
       "      <td>0.07469</td>\n",
       "      <td>...</td>\n",
       "      <td>23.68</td>\n",
       "      <td>29.43</td>\n",
       "      <td>158.80</td>\n",
       "      <td>1696.0</td>\n",
       "      <td>0.1347</td>\n",
       "      <td>0.3391</td>\n",
       "      <td>0.49320</td>\n",
       "      <td>0.19230</td>\n",
       "      <td>0.3294</td>\n",
       "      <td>0.09469</td>\n",
       "    </tr>\n",
       "    <tr>\n",
       "      <th>3</th>\n",
       "      <td>10.49</td>\n",
       "      <td>18.61</td>\n",
       "      <td>66.86</td>\n",
       "      <td>334.3</td>\n",
       "      <td>0.10680</td>\n",
       "      <td>0.06678</td>\n",
       "      <td>0.02297</td>\n",
       "      <td>0.01780</td>\n",
       "      <td>0.1482</td>\n",
       "      <td>0.06600</td>\n",
       "      <td>...</td>\n",
       "      <td>11.06</td>\n",
       "      <td>24.54</td>\n",
       "      <td>70.76</td>\n",
       "      <td>375.4</td>\n",
       "      <td>0.1413</td>\n",
       "      <td>0.1044</td>\n",
       "      <td>0.08423</td>\n",
       "      <td>0.06528</td>\n",
       "      <td>0.2213</td>\n",
       "      <td>0.07842</td>\n",
       "    </tr>\n",
       "    <tr>\n",
       "      <th>4</th>\n",
       "      <td>11.46</td>\n",
       "      <td>18.16</td>\n",
       "      <td>73.59</td>\n",
       "      <td>403.1</td>\n",
       "      <td>0.08853</td>\n",
       "      <td>0.07694</td>\n",
       "      <td>0.03344</td>\n",
       "      <td>0.01502</td>\n",
       "      <td>0.1411</td>\n",
       "      <td>0.06243</td>\n",
       "      <td>...</td>\n",
       "      <td>12.68</td>\n",
       "      <td>21.61</td>\n",
       "      <td>82.69</td>\n",
       "      <td>489.8</td>\n",
       "      <td>0.1144</td>\n",
       "      <td>0.1789</td>\n",
       "      <td>0.12260</td>\n",
       "      <td>0.05509</td>\n",
       "      <td>0.2208</td>\n",
       "      <td>0.07638</td>\n",
       "    </tr>\n",
       "  </tbody>\n",
       "</table>\n",
       "<p>5 rows × 30 columns</p>\n",
       "</div>"
      ],
      "text/plain": [
       "      0      1       2       3        4        5        6        7       8   \\\n",
       "0  19.53  18.90  129.50  1217.0  0.11500  0.16420  0.21970  0.10620  0.1792   \n",
       "1  12.46  19.89   80.43   471.3  0.08451  0.10140  0.06830  0.03099  0.1781   \n",
       "2  20.09  23.86  134.70  1247.0  0.10800  0.18380  0.22830  0.12800  0.2249   \n",
       "3  10.49  18.61   66.86   334.3  0.10680  0.06678  0.02297  0.01780  0.1482   \n",
       "4  11.46  18.16   73.59   403.1  0.08853  0.07694  0.03344  0.01502  0.1411   \n",
       "\n",
       "        9   ...     20     21      22      23      24      25       26  \\\n",
       "0  0.06552  ...  25.93  26.24  171.10  2053.0  0.1495  0.4116  0.61210   \n",
       "1  0.06249  ...  13.46  23.07   88.13   551.3  0.1050  0.2158  0.19040   \n",
       "2  0.07469  ...  23.68  29.43  158.80  1696.0  0.1347  0.3391  0.49320   \n",
       "3  0.06600  ...  11.06  24.54   70.76   375.4  0.1413  0.1044  0.08423   \n",
       "4  0.06243  ...  12.68  21.61   82.69   489.8  0.1144  0.1789  0.12260   \n",
       "\n",
       "        27      28       29  \n",
       "0  0.19800  0.2968  0.09929  \n",
       "1  0.07625  0.2685  0.07764  \n",
       "2  0.19230  0.3294  0.09469  \n",
       "3  0.06528  0.2213  0.07842  \n",
       "4  0.05509  0.2208  0.07638  \n",
       "\n",
       "[5 rows x 30 columns]"
      ]
     },
     "execution_count": 9,
     "metadata": {},
     "output_type": "execute_result"
    }
   ],
   "source": [
    "url = \"https://raw.githubusercontent.com/ddangman/Math425_Project1/refs/heads/main/Files/Wisconsin_Breast_Cancer_Data/validate.txt\"\n",
    "\n",
    "validateA = pd.read_csv(url, sep=\",\", header=None)\n",
    "print(validateA.shape)\n",
    "validateA.head()"
   ]
  },
  {
   "cell_type": "code",
   "execution_count": 10,
   "id": "ecf9be6b",
   "metadata": {},
   "outputs": [
    {
     "name": "stdout",
     "output_type": "stream",
     "text": [
      "(260, 1)\n"
     ]
    },
    {
     "data": {
      "application/vnd.microsoft.datawrangler.viewer.v0+json": {
       "columns": [
        {
         "name": "index",
         "rawType": "int64",
         "type": "integer"
        },
        {
         "name": "0",
         "rawType": "int64",
         "type": "integer"
        }
       ],
       "ref": "1a7213d5-09ff-47a2-afb4-155c69253f40",
       "rows": [
        [
         "0",
         "1"
        ],
        [
         "1",
         "-1"
        ],
        [
         "2",
         "1"
        ],
        [
         "3",
         "-1"
        ],
        [
         "4",
         "-1"
        ]
       ],
       "shape": {
        "columns": 1,
        "rows": 5
       }
      },
      "text/html": [
       "<div>\n",
       "<style scoped>\n",
       "    .dataframe tbody tr th:only-of-type {\n",
       "        vertical-align: middle;\n",
       "    }\n",
       "\n",
       "    .dataframe tbody tr th {\n",
       "        vertical-align: top;\n",
       "    }\n",
       "\n",
       "    .dataframe thead th {\n",
       "        text-align: right;\n",
       "    }\n",
       "</style>\n",
       "<table border=\"1\" class=\"dataframe\">\n",
       "  <thead>\n",
       "    <tr style=\"text-align: right;\">\n",
       "      <th></th>\n",
       "      <th>0</th>\n",
       "    </tr>\n",
       "  </thead>\n",
       "  <tbody>\n",
       "    <tr>\n",
       "      <th>0</th>\n",
       "      <td>1</td>\n",
       "    </tr>\n",
       "    <tr>\n",
       "      <th>1</th>\n",
       "      <td>-1</td>\n",
       "    </tr>\n",
       "    <tr>\n",
       "      <th>2</th>\n",
       "      <td>1</td>\n",
       "    </tr>\n",
       "    <tr>\n",
       "      <th>3</th>\n",
       "      <td>-1</td>\n",
       "    </tr>\n",
       "    <tr>\n",
       "      <th>4</th>\n",
       "      <td>-1</td>\n",
       "    </tr>\n",
       "  </tbody>\n",
       "</table>\n",
       "</div>"
      ],
      "text/plain": [
       "   0\n",
       "0  1\n",
       "1 -1\n",
       "2  1\n",
       "3 -1\n",
       "4 -1"
      ]
     },
     "execution_count": 10,
     "metadata": {},
     "output_type": "execute_result"
    }
   ],
   "source": [
    "url = \"https://raw.githubusercontent.com/ddangman/Math425_Project1/refs/heads/main/Files/Wisconsin_Breast_Cancer_Data/validate_values.txt\"\n",
    "\n",
    "validate_b = pd.read_csv(url, sep=\",\", header=None)\n",
    "print(validate_b.shape)\n",
    "validate_b.head()"
   ]
  },
  {
   "cell_type": "markdown",
   "id": "6bde10cf",
   "metadata": {},
   "source": [
    "**(c)** What is the percentage of incorrectly classified samples? Compare with the success rate on the training data.  "
   ]
  },
  {
   "cell_type": "markdown",
   "id": "d3f44fd8",
   "metadata": {},
   "source": [
    "**(d)** Embed the data in $d \\in \\{5, 10, 20\\}$ using **Gaussian matrix embedding** and repeat (a), (b), and (c). Report average computational time over 500 runs.  "
   ]
  },
  {
   "cell_type": "markdown",
   "id": "85ea23ff",
   "metadata": {},
   "source": [
    "**(e)** Repeat part (d) but use **sparse random projection** instead.  "
   ]
  },
  {
   "cell_type": "markdown",
   "id": "95999182",
   "metadata": {},
   "source": [
    "## Problem 3\n",
    "Apply $k$-means to the **class music data** `songList.xlsx` and use **Class Roster** to group the class into **8 distinct music clusters**.\n"
   ]
  },
  {
   "cell_type": "code",
   "execution_count": 11,
   "id": "1c9f72ba",
   "metadata": {},
   "outputs": [
    {
     "name": "stdout",
     "output_type": "stream",
     "text": [
      "                      Song        Artist    1    2    3    4    5    6    7  \\\n",
      "0               Take On Me          A-Ha  0.0  0.0  0.0  0.0  0.0  0.0  0.0   \n",
      "1            Thunderstruck         Ac/Dc  0.0  0.0  0.0  0.0  3.0  0.0  0.0   \n",
      "2                    Hello         Adele  2.0  0.0  0.0  0.0  3.0  1.0  0.0   \n",
      "3      Rolling In The Deep         Adele  0.0  0.0  0.0  0.0  4.0  1.0  0.0   \n",
      "4  Scars To Your Beautiful  Alessia Cara  0.0  0.0  0.0  0.0  3.0  0.0  0.0   \n",
      "\n",
      "     8  ...   23   24   25   26   27   28   29   30   31   32  \n",
      "0  0.0  ...  0.0  0.0  0.0  0.0  0.0  0.0  0.0  0.0  0.0  0.0  \n",
      "1  0.0  ...  0.0  0.0  0.0  0.0  0.0  0.0  0.0  0.0  0.0  0.0  \n",
      "2  0.0  ...  0.0  0.0  0.0  0.0  0.0  0.0  0.0  0.0  0.0  0.0  \n",
      "3  0.0  ...  0.0  0.0  0.0  0.0  0.0  0.0  0.0  0.0  0.0  0.0  \n",
      "4  0.0  ...  0.0  0.0  0.0  0.0  0.0  0.0  0.0  0.0  0.0  0.0  \n",
      "\n",
      "[5 rows x 34 columns]\n"
     ]
    }
   ],
   "source": [
    "url = \"https://github.com/ddangman/Math425_Project1/raw/main/Files/MATH425_songList.xlsx\"\n",
    "song_df = pd.read_excel(url)\n",
    "\n",
    "print(song_df.head())\n"
   ]
  }
 ],
 "metadata": {
  "kernelspec": {
   "display_name": "base",
   "language": "python",
   "name": "python3"
  },
  "language_info": {
   "codemirror_mode": {
    "name": "ipython",
    "version": 3
   },
   "file_extension": ".py",
   "mimetype": "text/x-python",
   "name": "python",
   "nbconvert_exporter": "python",
   "pygments_lexer": "ipython3",
   "version": "3.11.9"
  }
 },
 "nbformat": 4,
 "nbformat_minor": 5
}
