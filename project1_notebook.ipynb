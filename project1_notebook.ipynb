{
 "cells": [
  {
   "cell_type": "markdown",
   "id": "d15d8b26",
   "metadata": {},
   "source": [
    "# Math 425 Fall 2025 Project 1  \n",
    "**Due:** 5PM on Fri October 10  \n",
    "\n",
    "## Project Directions\n",
    "- Include a report on every group member’s contribution.  \n",
    "- Submit the group’s well-commented code used for the project with instructions on how to compile and run.  \n",
    "- Make a 15 to 20 minute video presentation of your results.  \n",
    "\n",
    "The project consists of 3 problems.\n",
    "\n",
    "You are given part of the **Wisconsin Diagnostic Breast Cancer (WDBC) dataset**. For each patient, you are given a vector $\\mathbf{a}$ giving features computed from digitized images of a fine needle aspirate (FNA) of a breast mass. The features describe characteristics of the cell nuclei present in the image. The goal is to decide whether the cells are malignant or benign.  \n",
    "\n",
    "### Feature Computation\n",
    "Ten real-valued quantities are computed for each cell nucleus:\n",
    "- **radius** (mean of distances from center to points on the perimeter)  \n",
    "- **texture** (standard deviation of gray-scale values)  \n",
    "- **perimeter**  \n",
    "- **area**  \n",
    "- **smoothness** (local variation in radius lengths)  \n",
    "- **compactness** $\\;=\\; \\dfrac{\\text{perimeter}^2}{\\text{area}} - 1.0$  \n",
    "- **concavity** (severity of concave portions of the contour)  \n",
    "- **concave points** (number of concave portions of the contour)  \n",
    "- **symmetry**  \n",
    "- **fractal dimension** (“coastline approximation” - 1)  \n",
    "\n",
    "The **mean**, **standard error (stderr)**, and a measure of the **largest (worst)** values were computed for each feature.  \n",
    "Thus, each specimen is represented by a vector $\\mathbf{a}$ with **30 entries**.  \n",
    "\n",
    "The domain $D$ consists of thirty strings identifying these features, e.g.  \n",
    "- `radius (mean)`  \n",
    "- `radius (stderr)`  \n",
    "- `radius (worst)`  \n",
    "- `area (mean)`  \n",
    "\n",
    "### Provided Files\n",
    "- `train.txt`: data for 300 patients  \n",
    "- `train_values.txt`: indicator for malignant specimen (+1) or benign specimen (−1)  \n",
    "- `validate.txt`: data for 260 patients  \n",
    "- `validate_values.txt`: indicator for malignant specimen (+1) or benign specimen (−1) "
   ]
  },
  {
   "cell_type": "markdown",
   "id": "68b32bba",
   "metadata": {},
   "source": [
    "## Problem 1\n",
    "**(a)** Apply $k$-means clustering with $k=2$ to the training data.  \n",
    "Then use the validation data to assess clustering accuracy. You will need a scheme to determine whether a patient in the validation set has a malignant or benign tumor based on clustering.  "
   ]
  },
  {
   "cell_type": "markdown",
   "id": "0893e6e1",
   "metadata": {},
   "source": [
    "**(b)** Embed the data in dimensions $d \\in \\{5, 10, 20\\}$ using **Gaussian matrix embedding**, then rerun $k$-means.  \n",
    "- What is the clustering accuracy for each $d$?  \n",
    "- What is the computational time averaged over 500 independent runs? "
   ]
  },
  {
   "cell_type": "markdown",
   "id": "ff79b37e",
   "metadata": {},
   "source": [
    "**(c)** Repeat part (b) but use **sparse random projection** instead of Gaussian embedding.  "
   ]
  },
  {
   "cell_type": "markdown",
   "id": "96f622c8",
   "metadata": {},
   "source": [
    "## Problem 2\n",
    "- Read the data in `train.txt` into a matrix $A$ (rows = patients, columns = 30 features).  \n",
    "- Read the data in `train_values.txt` into a vector $b$ where  \n",
    "\n",
    "  $$\n",
    "  b_i = \\begin{cases} \n",
    "  +1 & \\text{if malignant} \\\\ \n",
    "  -1 & \\text{if benign} \n",
    "  \\end{cases}\n",
    "  $$\n",
    "\n",
    "**(a)** Use the **QR algorithm** to find the least-squares linear model for the data. "
   ]
  },
  {
   "cell_type": "markdown",
   "id": "9374d100",
   "metadata": {},
   "source": [
    "**(b)** Apply the linear model to `validate.txt` and predict malignancy. Define a classifier:\n",
    "\n",
    "$$\n",
    "C(y) = \\begin{cases} \n",
    "+1 & \\text{if } y \\geq 0 \\\\ \n",
    "-1 & \\text{otherwise}\n",
    "\\end{cases}\n",
    "$$"
   ]
  },
  {
   "cell_type": "markdown",
   "id": "6bde10cf",
   "metadata": {},
   "source": [
    "**(c)** What is the percentage of incorrectly classified samples? Compare with the success rate on the training data.  "
   ]
  },
  {
   "cell_type": "markdown",
   "id": "d3f44fd8",
   "metadata": {},
   "source": [
    "**(d)** Embed the data in $d \\in \\{5, 10, 20\\}$ using **Gaussian matrix embedding** and repeat (a), (b), and (c). Report average computational time over 500 runs.  "
   ]
  },
  {
   "cell_type": "markdown",
   "id": "85ea23ff",
   "metadata": {},
   "source": [
    "**(e)** Repeat part (d) but use **sparse random projection** instead.  "
   ]
  },
  {
   "cell_type": "markdown",
   "id": "95999182",
   "metadata": {},
   "source": [
    "## Problem 3\n",
    "Apply $k$-means to the **class music data** `songList.xlsx` and use **Class Roster** to group the class into **8 distinct music clusters**.\n"
   ]
  }
 ],
 "metadata": {
  "kernelspec": {
   "display_name": "base",
   "language": "python",
   "name": "python3"
  },
  "language_info": {
   "name": "python",
   "version": "3.11.9"
  }
 },
 "nbformat": 4,
 "nbformat_minor": 5
}
